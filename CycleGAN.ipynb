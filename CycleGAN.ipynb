{
  "nbformat": 4,
  "nbformat_minor": 0,
  "metadata": {
    "colab": {
      "name": "CycleGAN.ipynb",
      "provenance": [],
      "authorship_tag": "ABX9TyNFCaEijfneYQfrgU5Vpiqb",
      "include_colab_link": true
    },
    "kernelspec": {
      "name": "python3",
      "display_name": "Python 3"
    },
    "language_info": {
      "name": "python"
    }
  },
  "cells": [
    {
      "cell_type": "markdown",
      "metadata": {
        "id": "view-in-github",
        "colab_type": "text"
      },
      "source": [
        "<a href=\"https://colab.research.google.com/github/Sim-mi-gyeong/DeepLearning/blob/main/CycleGAN.ipynb\" target=\"_parent\"><img src=\"https://colab.research.google.com/assets/colab-badge.svg\" alt=\"Open In Colab\"/></a>"
      ]
    },
    {
      "cell_type": "code",
      "metadata": {
        "id": "eFQljPaIXUWX"
      },
      "source": [
        "# Unpaired Image-to-Image Translation using Cycle-Consistent Adversarial Networks\n",
        "# 주기 일관성 손실 사용 -> 쌍으로 연결된 데이터 없이도 훈련 수행 가능\n",
        "# 소스와 대상 도메인 사이에서 일대일 매핑없이 한 도메인에서 다른 도메인으로 변환 가능"
      ],
      "execution_count": null,
      "outputs": []
    },
    {
      "cell_type": "code",
      "metadata": {
        "colab": {
          "base_uri": "https://localhost:8080/"
        },
        "id": "VRMjdqny5n_k",
        "outputId": "0576513e-9fa8-470d-fc31-814c73437739"
      },
      "source": [
        "# tensorflow_examples 패키지를 설치\n",
        "\n",
        "!pip install -q git+https://github.com/tensorflow/examples.git"
      ],
      "execution_count": null,
      "outputs": [
        {
          "output_type": "stream",
          "text": [
            "  Building wheel for tensorflow-examples (setup.py) ... \u001b[?25l\u001b[?25hdone\n"
          ],
          "name": "stdout"
        }
      ]
    },
    {
      "cell_type": "code",
      "metadata": {
        "id": "o9WDPW045qoN"
      },
      "source": [
        "import tensorflow as tf"
      ],
      "execution_count": null,
      "outputs": []
    },
    {
      "cell_type": "code",
      "metadata": {
        "id": "DD5GgDFX7CP8"
      },
      "source": [
        "import tensorflow_datasets as tfds\n",
        "from tensorflow_examples.models.pix2pix import pix2pix\n",
        "\n",
        "import os\n",
        "import time\n",
        "import matplotlib.pyplot as plt\n",
        "from IPython.display import clear_output\n",
        "\n",
        "tfds.disable_progress_bar()\n",
        "AUTOTUNE = tf.data.experimental.AUTOTUNE  # tf.data 런타임이 실행 시에 동적으로 값을 조정하도록"
      ],
      "execution_count": null,
      "outputs": []
    },
    {
      "cell_type": "code",
      "metadata": {
        "id": "1LXdR6k37Jqn"
      },
      "source": [
        "# 입력 파이프라인\n",
        "\n",
        "# 훈련 데이터세트에 임의의 지터링 및 미러링 -> 과대적합을 피하는 이미지 강화기법\n",
        "# 지터링: 이미지가 286 x 286 크기로 조정된 후 256 x 256로 무작위로 잘림\n",
        "# 미러링: 이미지가 좌우로 무작위로 뒤집힘"
      ],
      "execution_count": null,
      "outputs": []
    },
    {
      "cell_type": "code",
      "metadata": {
        "colab": {
          "base_uri": "https://localhost:8080/"
        },
        "id": "4jnIrBNz8Q26",
        "outputId": "13d27b4b-f97b-409a-91bd-066a346d7852"
      },
      "source": [
        "dataset, metadata = tfds.load('cycle_gan/horse2zebra', with_info=True, as_supervised=True)\n",
        "\n",
        "train_horse, train_zebras = dataset['trainA'], dataset['trainB']\n",
        "test_horse, test_zebras = dataset['trainA'], dataset['trainB']"
      ],
      "execution_count": null,
      "outputs": [
        {
          "output_type": "stream",
          "text": [
            "\u001b[1mDownloading and preparing dataset cycle_gan/horse2zebra/2.0.0 (download: 111.45 MiB, generated: Unknown size, total: 111.45 MiB) to /root/tensorflow_datasets/cycle_gan/horse2zebra/2.0.0...\u001b[0m\n",
            "Shuffling and writing examples to /root/tensorflow_datasets/cycle_gan/horse2zebra/2.0.0.incompleteG6A3MD/cycle_gan-trainA.tfrecord\n",
            "Shuffling and writing examples to /root/tensorflow_datasets/cycle_gan/horse2zebra/2.0.0.incompleteG6A3MD/cycle_gan-trainB.tfrecord\n",
            "Shuffling and writing examples to /root/tensorflow_datasets/cycle_gan/horse2zebra/2.0.0.incompleteG6A3MD/cycle_gan-testA.tfrecord\n",
            "Shuffling and writing examples to /root/tensorflow_datasets/cycle_gan/horse2zebra/2.0.0.incompleteG6A3MD/cycle_gan-testB.tfrecord\n",
            "\u001b[1mDataset cycle_gan downloaded and prepared to /root/tensorflow_datasets/cycle_gan/horse2zebra/2.0.0. Subsequent calls will reuse this data.\u001b[0m\n"
          ],
          "name": "stdout"
        }
      ]
    },
    {
      "cell_type": "code",
      "metadata": {
        "id": "cVaIv4bu8sMg"
      },
      "source": [
        ""
      ],
      "execution_count": null,
      "outputs": []
    }
  ]
}