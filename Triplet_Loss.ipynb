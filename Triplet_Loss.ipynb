{
  "nbformat": 4,
  "nbformat_minor": 0,
  "metadata": {
    "colab": {
      "name": "Triplet Loss.ipynb",
      "provenance": [],
      "authorship_tag": "ABX9TyPJbYQD6alF4pBEgIusK/lR",
      "include_colab_link": true
    },
    "kernelspec": {
      "name": "python3",
      "display_name": "Python 3"
    },
    "language_info": {
      "name": "python"
    },
    "widgets": {
      "application/vnd.jupyter.widget-state+json": {
        "034d9cf1e2334c08b9dd30897ecf2d1c": {
          "model_module": "@jupyter-widgets/controls",
          "model_name": "HBoxModel",
          "model_module_version": "1.5.0",
          "state": {
            "_view_name": "HBoxView",
            "_dom_classes": [],
            "_model_name": "HBoxModel",
            "_view_module": "@jupyter-widgets/controls",
            "_model_module_version": "1.5.0",
            "_view_count": null,
            "_view_module_version": "1.5.0",
            "box_style": "",
            "layout": "IPY_MODEL_acec42ccda804db7b887236bd2ad58a6",
            "_model_module": "@jupyter-widgets/controls",
            "children": [
              "IPY_MODEL_0301ce7b31644e8fa9c24e2149764aa3",
              "IPY_MODEL_0b8a3adb5d3c4836b9f5e3ec9aad7853"
            ]
          }
        },
        "acec42ccda804db7b887236bd2ad58a6": {
          "model_module": "@jupyter-widgets/base",
          "model_name": "LayoutModel",
          "model_module_version": "1.2.0",
          "state": {
            "_view_name": "LayoutView",
            "grid_template_rows": null,
            "right": null,
            "justify_content": null,
            "_view_module": "@jupyter-widgets/base",
            "overflow": null,
            "_model_module_version": "1.2.0",
            "_view_count": null,
            "flex_flow": null,
            "width": null,
            "min_width": null,
            "border": null,
            "align_items": null,
            "bottom": null,
            "_model_module": "@jupyter-widgets/base",
            "top": null,
            "grid_column": null,
            "overflow_y": null,
            "overflow_x": null,
            "grid_auto_flow": null,
            "grid_area": null,
            "grid_template_columns": null,
            "flex": null,
            "_model_name": "LayoutModel",
            "justify_items": null,
            "grid_row": null,
            "max_height": null,
            "align_content": null,
            "visibility": null,
            "align_self": null,
            "height": null,
            "min_height": null,
            "padding": null,
            "grid_auto_rows": null,
            "grid_gap": null,
            "max_width": null,
            "order": null,
            "_view_module_version": "1.2.0",
            "grid_template_areas": null,
            "object_position": null,
            "object_fit": null,
            "grid_auto_columns": null,
            "margin": null,
            "display": null,
            "left": null
          }
        },
        "0301ce7b31644e8fa9c24e2149764aa3": {
          "model_module": "@jupyter-widgets/controls",
          "model_name": "FloatProgressModel",
          "model_module_version": "1.5.0",
          "state": {
            "_view_name": "ProgressView",
            "style": "IPY_MODEL_c452843213d943fe8996cd169d4c10e5",
            "_dom_classes": [],
            "description": "Dl Completed...: 100%",
            "_model_name": "FloatProgressModel",
            "bar_style": "success",
            "max": 4,
            "_view_module": "@jupyter-widgets/controls",
            "_model_module_version": "1.5.0",
            "value": 4,
            "_view_count": null,
            "_view_module_version": "1.5.0",
            "orientation": "horizontal",
            "min": 0,
            "description_tooltip": null,
            "_model_module": "@jupyter-widgets/controls",
            "layout": "IPY_MODEL_cb202f1eb76e4afd9af495e7d064de96"
          }
        },
        "0b8a3adb5d3c4836b9f5e3ec9aad7853": {
          "model_module": "@jupyter-widgets/controls",
          "model_name": "HTMLModel",
          "model_module_version": "1.5.0",
          "state": {
            "_view_name": "HTMLView",
            "style": "IPY_MODEL_3bbf1d932fb341cf86c3eb00c0a9e384",
            "_dom_classes": [],
            "description": "",
            "_model_name": "HTMLModel",
            "placeholder": "​",
            "_view_module": "@jupyter-widgets/controls",
            "_model_module_version": "1.5.0",
            "value": " 4/4 [00:01&lt;00:00,  2.50 file/s]",
            "_view_count": null,
            "_view_module_version": "1.5.0",
            "description_tooltip": null,
            "_model_module": "@jupyter-widgets/controls",
            "layout": "IPY_MODEL_f4c92f67bd8347ffb0075eddcee82207"
          }
        },
        "c452843213d943fe8996cd169d4c10e5": {
          "model_module": "@jupyter-widgets/controls",
          "model_name": "ProgressStyleModel",
          "model_module_version": "1.5.0",
          "state": {
            "_view_name": "StyleView",
            "_model_name": "ProgressStyleModel",
            "description_width": "initial",
            "_view_module": "@jupyter-widgets/base",
            "_model_module_version": "1.5.0",
            "_view_count": null,
            "_view_module_version": "1.2.0",
            "bar_color": null,
            "_model_module": "@jupyter-widgets/controls"
          }
        },
        "cb202f1eb76e4afd9af495e7d064de96": {
          "model_module": "@jupyter-widgets/base",
          "model_name": "LayoutModel",
          "model_module_version": "1.2.0",
          "state": {
            "_view_name": "LayoutView",
            "grid_template_rows": null,
            "right": null,
            "justify_content": null,
            "_view_module": "@jupyter-widgets/base",
            "overflow": null,
            "_model_module_version": "1.2.0",
            "_view_count": null,
            "flex_flow": null,
            "width": null,
            "min_width": null,
            "border": null,
            "align_items": null,
            "bottom": null,
            "_model_module": "@jupyter-widgets/base",
            "top": null,
            "grid_column": null,
            "overflow_y": null,
            "overflow_x": null,
            "grid_auto_flow": null,
            "grid_area": null,
            "grid_template_columns": null,
            "flex": null,
            "_model_name": "LayoutModel",
            "justify_items": null,
            "grid_row": null,
            "max_height": null,
            "align_content": null,
            "visibility": null,
            "align_self": null,
            "height": null,
            "min_height": null,
            "padding": null,
            "grid_auto_rows": null,
            "grid_gap": null,
            "max_width": null,
            "order": null,
            "_view_module_version": "1.2.0",
            "grid_template_areas": null,
            "object_position": null,
            "object_fit": null,
            "grid_auto_columns": null,
            "margin": null,
            "display": null,
            "left": null
          }
        },
        "3bbf1d932fb341cf86c3eb00c0a9e384": {
          "model_module": "@jupyter-widgets/controls",
          "model_name": "DescriptionStyleModel",
          "model_module_version": "1.5.0",
          "state": {
            "_view_name": "StyleView",
            "_model_name": "DescriptionStyleModel",
            "description_width": "",
            "_view_module": "@jupyter-widgets/base",
            "_model_module_version": "1.5.0",
            "_view_count": null,
            "_view_module_version": "1.2.0",
            "_model_module": "@jupyter-widgets/controls"
          }
        },
        "f4c92f67bd8347ffb0075eddcee82207": {
          "model_module": "@jupyter-widgets/base",
          "model_name": "LayoutModel",
          "model_module_version": "1.2.0",
          "state": {
            "_view_name": "LayoutView",
            "grid_template_rows": null,
            "right": null,
            "justify_content": null,
            "_view_module": "@jupyter-widgets/base",
            "overflow": null,
            "_model_module_version": "1.2.0",
            "_view_count": null,
            "flex_flow": null,
            "width": null,
            "min_width": null,
            "border": null,
            "align_items": null,
            "bottom": null,
            "_model_module": "@jupyter-widgets/base",
            "top": null,
            "grid_column": null,
            "overflow_y": null,
            "overflow_x": null,
            "grid_auto_flow": null,
            "grid_area": null,
            "grid_template_columns": null,
            "flex": null,
            "_model_name": "LayoutModel",
            "justify_items": null,
            "grid_row": null,
            "max_height": null,
            "align_content": null,
            "visibility": null,
            "align_self": null,
            "height": null,
            "min_height": null,
            "padding": null,
            "grid_auto_rows": null,
            "grid_gap": null,
            "max_width": null,
            "order": null,
            "_view_module_version": "1.2.0",
            "grid_template_areas": null,
            "object_position": null,
            "object_fit": null,
            "grid_auto_columns": null,
            "margin": null,
            "display": null,
            "left": null
          }
        }
      }
    }
  },
  "cells": [
    {
      "cell_type": "markdown",
      "metadata": {
        "id": "view-in-github",
        "colab_type": "text"
      },
      "source": [
        "<a href=\"https://colab.research.google.com/github/Sim-mi-gyeong/DeepLearning/blob/main/Triplet_Loss.ipynb\" target=\"_parent\"><img src=\"https://colab.research.google.com/assets/colab-badge.svg\" alt=\"Open In Colab\"/></a>"
      ]
    },
    {
      "cell_type": "code",
      "metadata": {
        "colab": {
          "base_uri": "https://localhost:8080/"
        },
        "id": "8oiW-nquOdOg",
        "outputId": "097e711a-222f-44f4-881f-3d028230936b"
      },
      "source": [
        "!pip install -q -U tensorflow-addons"
      ],
      "execution_count": null,
      "outputs": [
        {
          "output_type": "stream",
          "text": [
            "\u001b[?25l\r\u001b[K     |▌                               | 10kB 14.5MB/s eta 0:00:01\r\u001b[K     |█                               | 20kB 19.4MB/s eta 0:00:01\r\u001b[K     |█▍                              | 30kB 10.6MB/s eta 0:00:01\r\u001b[K     |█▉                              | 40kB 8.9MB/s eta 0:00:01\r\u001b[K     |██▎                             | 51kB 4.9MB/s eta 0:00:01\r\u001b[K     |██▉                             | 61kB 5.6MB/s eta 0:00:01\r\u001b[K     |███▎                            | 71kB 5.2MB/s eta 0:00:01\r\u001b[K     |███▊                            | 81kB 5.7MB/s eta 0:00:01\r\u001b[K     |████▏                           | 92kB 5.7MB/s eta 0:00:01\r\u001b[K     |████▋                           | 102kB 4.6MB/s eta 0:00:01\r\u001b[K     |█████▏                          | 112kB 4.6MB/s eta 0:00:01\r\u001b[K     |█████▋                          | 122kB 4.6MB/s eta 0:00:01\r\u001b[K     |██████                          | 133kB 4.6MB/s eta 0:00:01\r\u001b[K     |██████▌                         | 143kB 4.6MB/s eta 0:00:01\r\u001b[K     |███████                         | 153kB 4.6MB/s eta 0:00:01\r\u001b[K     |███████▌                        | 163kB 4.6MB/s eta 0:00:01\r\u001b[K     |████████                        | 174kB 4.6MB/s eta 0:00:01\r\u001b[K     |████████▍                       | 184kB 4.6MB/s eta 0:00:01\r\u001b[K     |████████▉                       | 194kB 4.6MB/s eta 0:00:01\r\u001b[K     |█████████▎                      | 204kB 4.6MB/s eta 0:00:01\r\u001b[K     |█████████▉                      | 215kB 4.6MB/s eta 0:00:01\r\u001b[K     |██████████▎                     | 225kB 4.6MB/s eta 0:00:01\r\u001b[K     |██████████▊                     | 235kB 4.6MB/s eta 0:00:01\r\u001b[K     |███████████▏                    | 245kB 4.6MB/s eta 0:00:01\r\u001b[K     |███████████▋                    | 256kB 4.6MB/s eta 0:00:01\r\u001b[K     |████████████▏                   | 266kB 4.6MB/s eta 0:00:01\r\u001b[K     |████████████▋                   | 276kB 4.6MB/s eta 0:00:01\r\u001b[K     |█████████████                   | 286kB 4.6MB/s eta 0:00:01\r\u001b[K     |█████████████▌                  | 296kB 4.6MB/s eta 0:00:01\r\u001b[K     |██████████████                  | 307kB 4.6MB/s eta 0:00:01\r\u001b[K     |██████████████▍                 | 317kB 4.6MB/s eta 0:00:01\r\u001b[K     |███████████████                 | 327kB 4.6MB/s eta 0:00:01\r\u001b[K     |███████████████▍                | 337kB 4.6MB/s eta 0:00:01\r\u001b[K     |███████████████▉                | 348kB 4.6MB/s eta 0:00:01\r\u001b[K     |████████████████▎               | 358kB 4.6MB/s eta 0:00:01\r\u001b[K     |████████████████▊               | 368kB 4.6MB/s eta 0:00:01\r\u001b[K     |█████████████████▎              | 378kB 4.6MB/s eta 0:00:01\r\u001b[K     |█████████████████▊              | 389kB 4.6MB/s eta 0:00:01\r\u001b[K     |██████████████████▏             | 399kB 4.6MB/s eta 0:00:01\r\u001b[K     |██████████████████▋             | 409kB 4.6MB/s eta 0:00:01\r\u001b[K     |███████████████████             | 419kB 4.6MB/s eta 0:00:01\r\u001b[K     |███████████████████▋            | 430kB 4.6MB/s eta 0:00:01\r\u001b[K     |████████████████████            | 440kB 4.6MB/s eta 0:00:01\r\u001b[K     |████████████████████▌           | 450kB 4.6MB/s eta 0:00:01\r\u001b[K     |█████████████████████           | 460kB 4.6MB/s eta 0:00:01\r\u001b[K     |█████████████████████▍          | 471kB 4.6MB/s eta 0:00:01\r\u001b[K     |██████████████████████          | 481kB 4.6MB/s eta 0:00:01\r\u001b[K     |██████████████████████▍         | 491kB 4.6MB/s eta 0:00:01\r\u001b[K     |██████████████████████▉         | 501kB 4.6MB/s eta 0:00:01\r\u001b[K     |███████████████████████▎        | 512kB 4.6MB/s eta 0:00:01\r\u001b[K     |███████████████████████▊        | 522kB 4.6MB/s eta 0:00:01\r\u001b[K     |████████████████████████▎       | 532kB 4.6MB/s eta 0:00:01\r\u001b[K     |████████████████████████▊       | 542kB 4.6MB/s eta 0:00:01\r\u001b[K     |█████████████████████████▏      | 552kB 4.6MB/s eta 0:00:01\r\u001b[K     |█████████████████████████▋      | 563kB 4.6MB/s eta 0:00:01\r\u001b[K     |██████████████████████████      | 573kB 4.6MB/s eta 0:00:01\r\u001b[K     |██████████████████████████▋     | 583kB 4.6MB/s eta 0:00:01\r\u001b[K     |███████████████████████████     | 593kB 4.6MB/s eta 0:00:01\r\u001b[K     |███████████████████████████▌    | 604kB 4.6MB/s eta 0:00:01\r\u001b[K     |████████████████████████████    | 614kB 4.6MB/s eta 0:00:01\r\u001b[K     |████████████████████████████▍   | 624kB 4.6MB/s eta 0:00:01\r\u001b[K     |████████████████████████████▉   | 634kB 4.6MB/s eta 0:00:01\r\u001b[K     |█████████████████████████████▍  | 645kB 4.6MB/s eta 0:00:01\r\u001b[K     |█████████████████████████████▉  | 655kB 4.6MB/s eta 0:00:01\r\u001b[K     |██████████████████████████████▎ | 665kB 4.6MB/s eta 0:00:01\r\u001b[K     |██████████████████████████████▊ | 675kB 4.6MB/s eta 0:00:01\r\u001b[K     |███████████████████████████████▏| 686kB 4.6MB/s eta 0:00:01\r\u001b[K     |███████████████████████████████▊| 696kB 4.6MB/s eta 0:00:01\r\u001b[K     |████████████████████████████████| 706kB 4.6MB/s \n",
            "\u001b[?25h"
          ],
          "name": "stdout"
        }
      ]
    },
    {
      "cell_type": "code",
      "metadata": {
        "id": "oBBkG322gRfd"
      },
      "source": [
        "import io #  다양한 유형의 I/O를 처리하기 위한 파이썬의 주 장치를 제공"
      ],
      "execution_count": null,
      "outputs": []
    },
    {
      "cell_type": "code",
      "metadata": {
        "id": "I9hroEYygv_u"
      },
      "source": [
        "import numpy as np"
      ],
      "execution_count": null,
      "outputs": []
    },
    {
      "cell_type": "code",
      "metadata": {
        "id": "r2I6at1LgxLL"
      },
      "source": [
        "import tensorflow as tf\n",
        "import tensorflow_addons as tfa\n",
        "import tensorflow_datasets as tfds"
      ],
      "execution_count": null,
      "outputs": []
    },
    {
      "cell_type": "code",
      "metadata": {
        "colab": {
          "base_uri": "https://localhost:8080/",
          "height": 227,
          "referenced_widgets": [
            "034d9cf1e2334c08b9dd30897ecf2d1c",
            "acec42ccda804db7b887236bd2ad58a6",
            "0301ce7b31644e8fa9c24e2149764aa3",
            "0b8a3adb5d3c4836b9f5e3ec9aad7853",
            "c452843213d943fe8996cd169d4c10e5",
            "cb202f1eb76e4afd9af495e7d064de96",
            "3bbf1d932fb341cf86c3eb00c0a9e384",
            "f4c92f67bd8347ffb0075eddcee82207"
          ]
        },
        "id": "q_Yebuhsg5z1",
        "outputId": "24ca6896-503f-4048-c578-1e096c347311"
      },
      "source": [
        "def _normalize_img(img, label):\n",
        "  img=tf.cast(img, tf.float32) / 255.\n",
        "  return (img, label)\n",
        "\n",
        "train_dataset, test_dataset = tfds.load(name='mnist', split=['train', 'test'], as_supervised=True)  # as_supervised=True: 튜플 형태로 데이터 리턴 (input, label)\n",
        "\n",
        "# Build your input pipelines\n",
        "train_dataset=train_dataset.shuffle(1024).batch(32)\n",
        "train_dataset=train_dataset.map(_normalize_img)\n",
        "\n",
        "test_dataset=test_dataset.batch(32)\n",
        "test_dataset=test_dataset.map(_normalize_img)"
      ],
      "execution_count": null,
      "outputs": [
        {
          "output_type": "stream",
          "text": [
            "\u001b[1mDownloading and preparing dataset mnist/3.0.1 (download: 11.06 MiB, generated: 21.00 MiB, total: 32.06 MiB) to /root/tensorflow_datasets/mnist/3.0.1...\u001b[0m\n"
          ],
          "name": "stdout"
        },
        {
          "output_type": "stream",
          "text": [
            "WARNING:absl:Dataset mnist is hosted on GCS. It will automatically be downloaded to your\n",
            "local data directory. If you'd instead prefer to read directly from our public\n",
            "GCS bucket (recommended if you're running on GCP), you can instead pass\n",
            "`try_gcs=True` to `tfds.load` or set `data_dir=gs://tfds-data/datasets`.\n",
            "\n"
          ],
          "name": "stderr"
        },
        {
          "output_type": "display_data",
          "data": {
            "application/vnd.jupyter.widget-view+json": {
              "model_id": "034d9cf1e2334c08b9dd30897ecf2d1c",
              "version_minor": 0,
              "version_major": 2
            },
            "text/plain": [
              "HBox(children=(FloatProgress(value=0.0, description='Dl Completed...', max=4.0, style=ProgressStyle(descriptio…"
            ]
          },
          "metadata": {
            "tags": []
          }
        },
        {
          "output_type": "stream",
          "text": [
            "\n",
            "\n",
            "\u001b[1mDataset mnist downloaded and prepared to /root/tensorflow_datasets/mnist/3.0.1. Subsequent calls will reuse this data.\u001b[0m\n"
          ],
          "name": "stdout"
        }
      ]
    },
    {
      "cell_type": "code",
      "metadata": {
        "id": "dUPTUsGaiazF"
      },
      "source": [
        "model=tf.keras.Sequential([\n",
        "                           tf.keras.layers.Conv2D(filters=64, kernel_size=2, padding='same', activation='relu', input_shape=(28,28,1)),\n",
        "                           tf.keras.layers.MaxPooling2D(pool_size=2),\n",
        "                           tf.keras.layers.Dropout(0.3),\n",
        "                           tf.keras.layers.Conv2D(filters=32, kernel_size=2, padding='same', activation='relu'),\n",
        "                           tf.keras.layers.MaxPooling2D(pool_size=2),\n",
        "                           tf.keras.layers.Dropout(0.3),\n",
        "                           tf.keras.layers.Flatten(),\n",
        "                           tf.keras.layers.Dense(256, activation=None),  # No activation on final dense layer\n",
        "                           tf.keras.layers.Lambda(lambda x: tf.math.l2_normalize(x, axis=1)) #L2 normalize embeddings\n",
        "])"
      ],
      "execution_count": null,
      "outputs": []
    },
    {
      "cell_type": "code",
      "metadata": {
        "id": "_ypLW7u9kFAZ"
      },
      "source": [
        "model.compile(optimizer=tf.keras.optimizers.Adam(0.001),\n",
        "              loss=tfa.losses.TripletSemiHardLoss())"
      ],
      "execution_count": null,
      "outputs": []
    },
    {
      "cell_type": "code",
      "metadata": {
        "colab": {
          "base_uri": "https://localhost:8080/"
        },
        "id": "f_1iV_s_k-G-",
        "outputId": "98a8a452-bf96-4e17-cb78-b1044dd35714"
      },
      "source": [
        "hitory=model.fit(train_dataset, epochs=5)"
      ],
      "execution_count": null,
      "outputs": [
        {
          "output_type": "stream",
          "text": [
            "Epoch 1/5\n",
            "1875/1875 [==============================] - 121s 63ms/step - loss: 0.7055\n",
            "Epoch 2/5\n",
            "1875/1875 [==============================] - 114s 61ms/step - loss: 0.4703\n",
            "Epoch 3/5\n",
            "1875/1875 [==============================] - 92s 49ms/step - loss: 0.4257\n",
            "Epoch 4/5\n",
            "1875/1875 [==============================] - 85s 45ms/step - loss: 0.4053\n",
            "Epoch 5/5\n",
            "1875/1875 [==============================] - 84s 45ms/step - loss: 0.3929\n"
          ],
          "name": "stdout"
        }
      ]
    },
    {
      "cell_type": "code",
      "metadata": {
        "id": "WD9ckow9lI6z"
      },
      "source": [
        "# Evaluate the network\n",
        "results=model.predict(test_dataset)"
      ],
      "execution_count": null,
      "outputs": []
    },
    {
      "cell_type": "code",
      "metadata": {
        "colab": {
          "base_uri": "https://localhost:8080/",
          "height": 17
        },
        "id": "CVTexVIplQN-",
        "outputId": "fb9bbc6f-e471-4521-b81f-9ff55be93562"
      },
      "source": [
        "np.savetxt(\"vecs.tsv\", results, delimiter='\\t')\n",
        "\n",
        "out_m=io.open('meta.tsv', 'w', encoding='utf-8')\n",
        "for img, labels in tfds.as_numpy(test_dataset):\n",
        "  [out_m.write(str(x) + '\\n') for x in labels]\n",
        "out_m.close()\n",
        "\n",
        "try:\n",
        "  from google.colab import files\n",
        "  files.download('vecs.tsv')\n",
        "  files.download('meta.tsv')\n",
        "except:\n",
        "  pass"
      ],
      "execution_count": null,
      "outputs": [
        {
          "output_type": "display_data",
          "data": {
            "application/javascript": [
              "\n",
              "    async function download(id, filename, size) {\n",
              "      if (!google.colab.kernel.accessAllowed) {\n",
              "        return;\n",
              "      }\n",
              "      const div = document.createElement('div');\n",
              "      const label = document.createElement('label');\n",
              "      label.textContent = `Downloading \"${filename}\": `;\n",
              "      div.appendChild(label);\n",
              "      const progress = document.createElement('progress');\n",
              "      progress.max = size;\n",
              "      div.appendChild(progress);\n",
              "      document.body.appendChild(div);\n",
              "\n",
              "      const buffers = [];\n",
              "      let downloaded = 0;\n",
              "\n",
              "      const channel = await google.colab.kernel.comms.open(id);\n",
              "      // Send a message to notify the kernel that we're ready.\n",
              "      channel.send({})\n",
              "\n",
              "      for await (const message of channel.messages) {\n",
              "        // Send a message to notify the kernel that we're ready.\n",
              "        channel.send({})\n",
              "        if (message.buffers) {\n",
              "          for (const buffer of message.buffers) {\n",
              "            buffers.push(buffer);\n",
              "            downloaded += buffer.byteLength;\n",
              "            progress.value = downloaded;\n",
              "          }\n",
              "        }\n",
              "      }\n",
              "      const blob = new Blob(buffers, {type: 'application/binary'});\n",
              "      const a = document.createElement('a');\n",
              "      a.href = window.URL.createObjectURL(blob);\n",
              "      a.download = filename;\n",
              "      div.appendChild(a);\n",
              "      a.click();\n",
              "      div.remove();\n",
              "    }\n",
              "  "
            ],
            "text/plain": [
              "<IPython.core.display.Javascript object>"
            ]
          },
          "metadata": {
            "tags": []
          }
        },
        {
          "output_type": "display_data",
          "data": {
            "application/javascript": [
              "download(\"download_a7aae7ca-9bf7-4ff6-8ead-98e9c176cc1a\", \"vecs.tsv\", 65261210)"
            ],
            "text/plain": [
              "<IPython.core.display.Javascript object>"
            ]
          },
          "metadata": {
            "tags": []
          }
        },
        {
          "output_type": "display_data",
          "data": {
            "application/javascript": [
              "\n",
              "    async function download(id, filename, size) {\n",
              "      if (!google.colab.kernel.accessAllowed) {\n",
              "        return;\n",
              "      }\n",
              "      const div = document.createElement('div');\n",
              "      const label = document.createElement('label');\n",
              "      label.textContent = `Downloading \"${filename}\": `;\n",
              "      div.appendChild(label);\n",
              "      const progress = document.createElement('progress');\n",
              "      progress.max = size;\n",
              "      div.appendChild(progress);\n",
              "      document.body.appendChild(div);\n",
              "\n",
              "      const buffers = [];\n",
              "      let downloaded = 0;\n",
              "\n",
              "      const channel = await google.colab.kernel.comms.open(id);\n",
              "      // Send a message to notify the kernel that we're ready.\n",
              "      channel.send({})\n",
              "\n",
              "      for await (const message of channel.messages) {\n",
              "        // Send a message to notify the kernel that we're ready.\n",
              "        channel.send({})\n",
              "        if (message.buffers) {\n",
              "          for (const buffer of message.buffers) {\n",
              "            buffers.push(buffer);\n",
              "            downloaded += buffer.byteLength;\n",
              "            progress.value = downloaded;\n",
              "          }\n",
              "        }\n",
              "      }\n",
              "      const blob = new Blob(buffers, {type: 'application/binary'});\n",
              "      const a = document.createElement('a');\n",
              "      a.href = window.URL.createObjectURL(blob);\n",
              "      a.download = filename;\n",
              "      div.appendChild(a);\n",
              "      a.click();\n",
              "      div.remove();\n",
              "    }\n",
              "  "
            ],
            "text/plain": [
              "<IPython.core.display.Javascript object>"
            ]
          },
          "metadata": {
            "tags": []
          }
        },
        {
          "output_type": "display_data",
          "data": {
            "application/javascript": [
              "download(\"download_7e8dad9c-de80-4c45-8f88-9fba4006caa6\", \"meta.tsv\", 20000)"
            ],
            "text/plain": [
              "<IPython.core.display.Javascript object>"
            ]
          },
          "metadata": {
            "tags": []
          }
        }
      ]
    },
    {
      "cell_type": "code",
      "metadata": {
        "id": "JsCwLKCamDkL"
      },
      "source": [
        ""
      ],
      "execution_count": null,
      "outputs": []
    }
  ]
}