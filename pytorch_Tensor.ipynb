{
  "nbformat": 4,
  "nbformat_minor": 0,
  "metadata": {
    "colab": {
      "name": "pytorch_Tensor.ipynb",
      "provenance": [],
      "authorship_tag": "ABX9TyNiWS7v3mG/UszumK6JsbUX",
      "include_colab_link": true
    },
    "kernelspec": {
      "name": "python3",
      "display_name": "Python 3"
    },
    "language_info": {
      "name": "python"
    }
  },
  "cells": [
    {
      "cell_type": "markdown",
      "metadata": {
        "id": "view-in-github",
        "colab_type": "text"
      },
      "source": [
        "<a href=\"https://colab.research.google.com/github/Sim-mi-gyeong/DeepLearning/blob/main/pytorch_Tensor.ipynb\" target=\"_parent\"><img src=\"https://colab.research.google.com/assets/colab-badge.svg\" alt=\"Open In Colab\"/></a>"
      ]
    },
    {
      "cell_type": "code",
      "metadata": {
        "id": "S6X5QcFzQWlP"
      },
      "source": [
        "# Tensor(텐서): 배열이나 행렬과 유사한 특수한 자료구조 -> 모델의 입력과 출력, 모델의 매개변수를 부호화(encode)"
      ],
      "execution_count": null,
      "outputs": []
    },
    {
      "cell_type": "code",
      "metadata": {
        "id": "UUZkQvM5SPen"
      },
      "source": [
        "import torch\n",
        "import numpy as np"
      ],
      "execution_count": null,
      "outputs": []
    },
    {
      "cell_type": "code",
      "metadata": {
        "colab": {
          "base_uri": "https://localhost:8080/"
        },
        "id": "dJZhPJpfSSa3",
        "outputId": "c058ada6-62c0-4a97-844c-9c14d83d4cb4"
      },
      "source": [
        "# 텐서 초기화\n",
        "\n",
        "# 데이터로부터 직접 생성하기 - 데이터의 자료형은 자동으로 유추\n",
        "data = [[1,2], [3,4]]\n",
        "x_data = torch.tensor(data)\n",
        "x_data"
      ],
      "execution_count": null,
      "outputs": [
        {
          "output_type": "execute_result",
          "data": {
            "text/plain": [
              "tensor([[1, 2],\n",
              "        [3, 4]])"
            ]
          },
          "metadata": {
            "tags": []
          },
          "execution_count": 3
        }
      ]
    },
    {
      "cell_type": "code",
      "metadata": {
        "colab": {
          "base_uri": "https://localhost:8080/"
        },
        "id": "A7l5P0dpSmfV",
        "outputId": "98be1b13-ad95-45b6-d587-50e90f8cee47"
      },
      "source": [
        "# Numpy 배열로부터 생성하기\n",
        "np_array = np.array(data)\n",
        "print(np_array)\n",
        "\n",
        "x_np = torch.from_numpy(np_array)\n",
        "print(x_np)"
      ],
      "execution_count": null,
      "outputs": [
        {
          "output_type": "stream",
          "text": [
            "[[1 2]\n",
            " [3 4]]\n",
            "tensor([[1, 2],\n",
            "        [3, 4]])\n"
          ],
          "name": "stdout"
        }
      ]
    },
    {
      "cell_type": "code",
      "metadata": {
        "colab": {
          "base_uri": "https://localhost:8080/"
        },
        "id": "0YKTnMDvTN5A",
        "outputId": "a12bd647-3f1f-4f68-da6d-49e83fe1675c"
      },
      "source": [
        "# 다른 텐서로부터 생성하기 \n",
        "# - 명시적으로 재정의(override)하지 않는다면, 인자로 주어진 텐서의 속성(모양(shape), 자료형(datatype)을 유지)\n",
        "\n",
        "x_ones = torch.ones_like(x_data)  # x_data의 속성 유지\n",
        "print(f\"Ones Tensor: \\n {x_ones} \\n\")\n",
        "\n",
        "x_rand = torch.rand_like(x_data, dtype=torch.float)  # x_data의 속성을 덮어씀\n",
        "print(f\"Random Tensor: \\n {x_rand} \\n\")"
      ],
      "execution_count": null,
      "outputs": [
        {
          "output_type": "stream",
          "text": [
            "Ones Tensor: \n",
            " tensor([[1, 1],\n",
            "        [1, 1]]) \n",
            "\n",
            "Random Tensor: \n",
            " tensor([[0.8615, 0.8647],\n",
            "        [0.0976, 0.9069]]) \n",
            "\n"
          ],
          "name": "stdout"
        }
      ]
    },
    {
      "cell_type": "code",
      "metadata": {
        "colab": {
          "base_uri": "https://localhost:8080/"
        },
        "id": "tVY0J1bvVMak",
        "outputId": "c4e29625-6ebc-4ed5-c517-24217e3243bd"
      },
      "source": [
        "# 무작위(random) 또는 상수(constant) 값을 사용하기\n",
        "# shape: 텐서의 차원(dimension)을 나타내는 튜플(tuple)\n",
        "\n",
        "shape = (2,3, )\n",
        "rand_tensor = torch.rand(shape)\n",
        "ones_tensor = torch.ones(shape)\n",
        "zeros_tensor = torch.zeros(shape)\n",
        "\n",
        "print(f\"Random Tensor : \\n {rand_tensor} \\n \")\n",
        "print(f\"Ones Tensor : \\n {ones_tensor} \\n \")\n",
        "print(f\"Zeros Tensor : \\n {zeros_tensor} \")"
      ],
      "execution_count": null,
      "outputs": [
        {
          "output_type": "stream",
          "text": [
            "Random Tensor : \n",
            " tensor([[0.7391, 0.7225, 0.8262],\n",
            "        [0.3639, 0.3838, 0.7582]]) \n",
            " \n",
            "Ones Tensor : \n",
            " tensor([[1., 1., 1.],\n",
            "        [1., 1., 1.]]) \n",
            " \n",
            "Zeros Tensor : \n",
            " tensor([[0., 0., 0.],\n",
            "        [0., 0., 0.]]) \n"
          ],
          "name": "stdout"
        }
      ]
    },
    {
      "cell_type": "code",
      "metadata": {
        "colab": {
          "base_uri": "https://localhost:8080/"
        },
        "id": "Yk7nEvQGV8Kz",
        "outputId": "7a50f3b3-1163-4eaa-e338-0300cb9b81b3"
      },
      "source": [
        "# 텐서의 속성(Attribute)\n",
        "\n",
        "tensor = torch.rand(3,4)\n",
        "\n",
        "print(f\"Shape of tensor : {tensor.shape} \\n \")\n",
        "print(f\"Datatype of tensor : {tensor.dtype} \\n \")\n",
        "print(f\"Device tensor is sorted on : {tensor.device}\")"
      ],
      "execution_count": null,
      "outputs": [
        {
          "output_type": "stream",
          "text": [
            "Shape of tensor : torch.Size([3, 4]) \n",
            " \n",
            "Datatype of tensor : torch.float32 \n",
            " \n",
            "Device tensor is sorted on : cpu\n"
          ],
          "name": "stdout"
        }
      ]
    },
    {
      "cell_type": "code",
      "metadata": {
        "id": "AUVjxRuFWU3N"
      },
      "source": [
        "# 텐서의 연산(Operation)\n",
        "\n",
        "# 기본적으로 텐서는 CPU에 생성\n",
        "# .to 메서드를 사용하면 GPU의 가용성을 확인한 뒤 GPU로 텐서를 명시적으로 이동 가능\n",
        "\n",
        "if torch.cuda.is_available():\n",
        "  tensor = tensor.to('cuda')"
      ],
      "execution_count": null,
      "outputs": []
    },
    {
      "cell_type": "code",
      "metadata": {
        "colab": {
          "base_uri": "https://localhost:8080/"
        },
        "id": "U5zjb9DKadTO",
        "outputId": "7f683431-689b-4604-89ad-4ec297e5db3c"
      },
      "source": [
        "# Numpy식의 표준 인덱싱과 슬라이싱\n",
        "\n",
        "tensor = torch.ones(4,4)\n",
        "print('Frist row : ', tensor[0])\n",
        "print('First column : ', tensor[ : , 0])\n",
        "print('Last column : ', tensor[..., -1])\n",
        "\n",
        "tensor[:, 1] = 0 \n",
        "print(tensor)"
      ],
      "execution_count": null,
      "outputs": [
        {
          "output_type": "stream",
          "text": [
            "Frist row :  tensor([1., 1., 1., 1.])\n",
            "First column :  tensor([1., 1., 1., 1.])\n",
            "Last column :  tensor([1., 1., 1., 1.])\n",
            "tensor([[1., 0., 1., 1.],\n",
            "        [1., 0., 1., 1.],\n",
            "        [1., 0., 1., 1.],\n",
            "        [1., 0., 1., 1.]])\n"
          ],
          "name": "stdout"
        }
      ]
    },
    {
      "cell_type": "code",
      "metadata": {
        "colab": {
          "base_uri": "https://localhost:8080/"
        },
        "id": "zfESF0eza8L6",
        "outputId": "88062464-ec59-438c-fc98-3a8b6250fe8e"
      },
      "source": [
        "# 텐서 합치기: torch.cat을 사용해 주어진 차원에 따라 일련의 텐서 연결 가능\n",
        "# torch.stack(tensors, dim=0, *, out=None): 텐서 결합 \n",
        "\n",
        "t1 = torch.cat([tensor, tensor, tensor], dim=1)\n",
        "print(t1)"
      ],
      "execution_count": null,
      "outputs": [
        {
          "output_type": "stream",
          "text": [
            "tensor([[1., 0., 1., 1., 1., 0., 1., 1., 1., 0., 1., 1.],\n",
            "        [1., 0., 1., 1., 1., 0., 1., 1., 1., 0., 1., 1.],\n",
            "        [1., 0., 1., 1., 1., 0., 1., 1., 1., 0., 1., 1.],\n",
            "        [1., 0., 1., 1., 1., 0., 1., 1., 1., 0., 1., 1.]])\n"
          ],
          "name": "stdout"
        }
      ]
    },
    {
      "cell_type": "code",
      "metadata": {
        "colab": {
          "base_uri": "https://localhost:8080/"
        },
        "id": "jrWK5JVec4JB",
        "outputId": "aba43b5e-7691-4fb5-fd8a-e203c481f905"
      },
      "source": [
        "# 산술 연산(Arithmetic operations)\n",
        "\n",
        "# matrix multiplication -> y1 = y2 = y3\n",
        "y1 = tensor @ tensor.T\n",
        "print('y1 : \\n', y1)\n",
        "y2 = tensor.matmul(tensor.T)\n",
        "print('y2 : \\n', y2)\n",
        "y3 = torch.rand_like(tensor)\n",
        "print('y3 : \\n', y3)\n",
        "torch.matmul(tensor, tensor.T, out=y3)\n",
        "\n",
        "# 요소별 곱(element-wise product) 계산 -> z1 = z2 = z3\n",
        "z1 = tensor * tensor\n",
        "print('z1 : \\n', z1)\n",
        "z2 = tensor.mul(tensor)\n",
        "print('z2 : \\n ', z2)\n",
        "z3 = torch.rand_like(tensor)\n",
        "torch.mul(tensor, tensor, out = z3)"
      ],
      "execution_count": null,
      "outputs": [
        {
          "output_type": "stream",
          "text": [
            "y1 : \n",
            " tensor([[3., 3., 3., 3.],\n",
            "        [3., 3., 3., 3.],\n",
            "        [3., 3., 3., 3.],\n",
            "        [3., 3., 3., 3.]])\n",
            "y2 : \n",
            " tensor([[3., 3., 3., 3.],\n",
            "        [3., 3., 3., 3.],\n",
            "        [3., 3., 3., 3.],\n",
            "        [3., 3., 3., 3.]])\n",
            "y3 : \n",
            " tensor([[0.4357, 0.7821, 0.7815, 0.6302],\n",
            "        [0.6121, 0.1605, 0.6161, 0.2735],\n",
            "        [0.3536, 0.2037, 0.1896, 0.4551],\n",
            "        [0.9414, 0.1229, 0.2324, 0.8137]])\n",
            "z1 : \n",
            " tensor([[1., 0., 1., 1.],\n",
            "        [1., 0., 1., 1.],\n",
            "        [1., 0., 1., 1.],\n",
            "        [1., 0., 1., 1.]])\n",
            "z2 : \n",
            "  tensor([[1., 0., 1., 1.],\n",
            "        [1., 0., 1., 1.],\n",
            "        [1., 0., 1., 1.],\n",
            "        [1., 0., 1., 1.]])\n"
          ],
          "name": "stdout"
        },
        {
          "output_type": "execute_result",
          "data": {
            "text/plain": [
              "tensor([[1., 0., 1., 1.],\n",
              "        [1., 0., 1., 1.],\n",
              "        [1., 0., 1., 1.],\n",
              "        [1., 0., 1., 1.]])"
            ]
          },
          "metadata": {
            "tags": []
          },
          "execution_count": 11
        }
      ]
    },
    {
      "cell_type": "code",
      "metadata": {
        "colab": {
          "base_uri": "https://localhost:8080/"
        },
        "id": "wrVPv5c9k0z3",
        "outputId": "7f06d610-6638-426f-b143-40d9f34a8e6b"
      },
      "source": [
        "print(torch.matmul(tensor, tensor.T, out=y3))"
      ],
      "execution_count": null,
      "outputs": [
        {
          "output_type": "stream",
          "text": [
            "tensor([[3., 3., 3., 3.],\n",
            "        [3., 3., 3., 3.],\n",
            "        [3., 3., 3., 3.],\n",
            "        [3., 3., 3., 3.]])\n"
          ],
          "name": "stdout"
        }
      ]
    },
    {
      "cell_type": "code",
      "metadata": {
        "colab": {
          "base_uri": "https://localhost:8080/"
        },
        "id": "CoT31RLsm0CL",
        "outputId": "69ddb7f8-009e-4d51-ac13-04656da2e448"
      },
      "source": [
        "# 단일 요소(single-element) 텐서: 텐서의 모든 값을 하나로 집계하여 요소가 하나인 텐서의 경우 -> .item()을 사용하여 Python 숫자 값으로 변환 가능\n",
        "agg = tensor.sum()\n",
        "agg_item = agg.item()\n",
        "print(agg_item, type(agg_item))"
      ],
      "execution_count": null,
      "outputs": [
        {
          "output_type": "stream",
          "text": [
            "12.0 <class 'float'>\n"
          ],
          "name": "stdout"
        }
      ]
    },
    {
      "cell_type": "code",
      "metadata": {
        "colab": {
          "base_uri": "https://localhost:8080/"
        },
        "id": "1fejLzXIoXjV",
        "outputId": "e4e8fcf1-d890-4a20-8ef7-50af1ca49d79"
      },
      "source": [
        "# 바꿔치기(in-place) 연산: 연산 결과를 피연산자(operand)에 저장하는 연산\n",
        "# 접미사 '_' / ex) x.copy_(y) 나 x.t_() 는 x 를 변경\n",
        "\n",
        "print(tensor, '\\n')\n",
        "tensor.add_(5)\n",
        "print(tensor)"
      ],
      "execution_count": null,
      "outputs": [
        {
          "output_type": "stream",
          "text": [
            "tensor([[1., 0., 1., 1.],\n",
            "        [1., 0., 1., 1.],\n",
            "        [1., 0., 1., 1.],\n",
            "        [1., 0., 1., 1.]]) \n",
            "\n",
            "tensor([[6., 5., 6., 6.],\n",
            "        [6., 5., 6., 6.],\n",
            "        [6., 5., 6., 6.],\n",
            "        [6., 5., 6., 6.]])\n"
          ],
          "name": "stdout"
        }
      ]
    },
    {
      "cell_type": "code",
      "metadata": {
        "colab": {
          "base_uri": "https://localhost:8080/"
        },
        "id": "ysXrqg0PrKTB",
        "outputId": "23c38d36-fce2-47f7-e1d2-fd2e90bc652c"
      },
      "source": [
        "# NumPy 변환(Bridge)\n",
        "# CPU상의 텐서와 Numpy 배열은 메모리공간 공유 -> 하나 변경 시 다른 하나도 변경\n",
        "\n",
        "# 텐서를 Numpy 배열로 변환하기\n",
        "t=torch.ones(5)\n",
        "print(f\"t : {t}\")\n",
        "n = t.numpy()\n",
        "print(f\"n : {n}\")"
      ],
      "execution_count": null,
      "outputs": [
        {
          "output_type": "stream",
          "text": [
            "t : tensor([1., 1., 1., 1., 1.])\n",
            "n : [1. 1. 1. 1. 1.]\n"
          ],
          "name": "stdout"
        }
      ]
    },
    {
      "cell_type": "code",
      "metadata": {
        "colab": {
          "base_uri": "https://localhost:8080/"
        },
        "id": "0KHuc9BD-pYw",
        "outputId": "2b758b7a-9d17-42f3-a0bf-7d15ad482080"
      },
      "source": [
        "# 텐서의 변경 사항이 NumPy 배열에 반영\n",
        "t.add_(1)\n",
        "print(f\"t : {t}\")\n",
        "print(f\"n : {n}\")"
      ],
      "execution_count": null,
      "outputs": [
        {
          "output_type": "stream",
          "text": [
            "t : tensor([2., 2., 2., 2., 2.])\n",
            "n : [2. 2. 2. 2. 2.]\n"
          ],
          "name": "stdout"
        }
      ]
    },
    {
      "cell_type": "code",
      "metadata": {
        "id": "54lIG1iE-w3d"
      },
      "source": [
        "# Numpy 배열을 텐서로 변환하기\n",
        "n = np.ones(5)\n",
        "t = torch.from_numpy(n)"
      ],
      "execution_count": null,
      "outputs": []
    },
    {
      "cell_type": "code",
      "metadata": {
        "colab": {
          "base_uri": "https://localhost:8080/"
        },
        "id": "yjLu2hvJLQFu",
        "outputId": "716745b0-ba8f-48f9-c361-df9eb5a87f82"
      },
      "source": [
        "# NumPy 배열의 변경 사항이 텐서에 반영\n",
        "np.add(n, 1, out=n)\n",
        "print(f\"t : {t}\")\n",
        "print(f\"n : {n}\")"
      ],
      "execution_count": null,
      "outputs": [
        {
          "output_type": "stream",
          "text": [
            "t : tensor([2., 2., 2., 2., 2.], dtype=torch.float64)\n",
            "n : [2. 2. 2. 2. 2.]\n"
          ],
          "name": "stdout"
        }
      ]
    },
    {
      "cell_type": "code",
      "metadata": {
        "id": "xFoxnLVbLWWE"
      },
      "source": [
        ""
      ],
      "execution_count": null,
      "outputs": []
    }
  ]
}